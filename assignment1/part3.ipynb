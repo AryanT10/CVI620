{
 "cells": [
  {
   "cell_type": "code",
   "execution_count": null,
   "metadata": {},
   "outputs": [
    {
     "name": "stdout",
     "output_type": "stream",
     "text": [
      "3.1: Rectangles with borders saved successfully!\n"
     ]
    }
   ],
   "source": [
    "import cv2 as cv\n",
    "\n",
    "# Get the image\n",
    "folder_name = 'part3_images'\n",
    "p3_image_path = f'{folder_name}/street-city-car-buildings.jpg'\n",
    "image = cv.imread(p3_image_path)\n",
    "\n",
    "if image is None:\n",
    "    print(\"Error: Could not load the image. Check the file path.\")\n",
    "else:\n",
    "    # Define bounding boxes for the car and pedestrian\n",
    "    objects = [\n",
    "        {\"label\": \"Car\", \"top_left\": (600, 350), \"bottom_right\": (720, 450)},  # Middle car\n",
    "        {\"label\": \"Pedestrian\", \"top_left\": (250, 350), \"bottom_right\": (340, 540)},  # Left pedestrian\n",
    "    ]\n",
    "\n",
    "    # Draw rectangles\n",
    "    for obj in objects:\n",
    "        top_left = obj[\"top_left\"]\n",
    "        bottom_right = obj[\"bottom_right\"]\n",
    "\n",
    "        # Draw rectangle (border only)\n",
    "        cv.rectangle(image, top_left, bottom_right, (0, 255, 0), 4)  # Green rectangle with thickness 4\n",
    "\n",
    "    # Display and save the image\n",
    "    cv.imshow(\"Rectangles with Borders\", image)\n",
    "    cv.imwrite(\"part3_images/3.1_rectangles_borders.png\", image)\n",
    "    print(\"3.1: Rectangles with borders saved successfully!\")\n",
    "    cv.waitKey(0)\n",
    "    cv.destroyAllWindows()\n",
    "\n"
   ]
  },
  {
   "cell_type": "code",
   "execution_count": null,
   "metadata": {},
   "outputs": [
    {
     "name": "stdout",
     "output_type": "stream",
     "text": [
      "3.2: Filled rectangles saved successfully!\n"
     ]
    }
   ],
   "source": [
    "import cv2 as cv\n",
    "\n",
    "# Get the image\n",
    "folder_name = 'part3_images'\n",
    "p3_image_path = f'{folder_name}/street-city-car-buildings.jpg'\n",
    "image = cv.imread(p3_image_path)\n",
    "\n",
    "if image is None:\n",
    "    print(\"Error: Could not load the image. Check the file path.\")\n",
    "else:\n",
    "    # Define bounding boxes for the car and pedestrian\n",
    "    objects = [\n",
    "        {\"label\": \"Car\", \"top_left\": (600, 350), \"bottom_right\": (720, 450)},  # Middle car\n",
    "        {\"label\": \"Pedestrian\", \"top_left\": (250, 350), \"bottom_right\": (340, 540)},  # Left pedestrian\n",
    "    ]\n",
    "\n",
    "    # Draw filled rectangles\n",
    "    for obj in objects:\n",
    "        top_left = obj[\"top_left\"]\n",
    "        bottom_right = obj[\"bottom_right\"]\n",
    "\n",
    "        # Draw filled rectangle\n",
    "        cv.rectangle(image, top_left, bottom_right, (0, 255, 0), -1)  # Green rectangle filled\n",
    "\n",
    "    # Display and save the image\n",
    "    cv.imshow(\"Filled Rectangles\", image)\n",
    "    cv.imwrite(\"part3_images/3.2_filled_rectangles.png\", image)\n",
    "    print(\"3.2: Filled rectangles saved successfully!\")\n",
    "    cv.waitKey(0)\n",
    "    cv.destroyAllWindows()\n",
    "\n"
   ]
  },
  {
   "cell_type": "code",
   "execution_count": null,
   "metadata": {},
   "outputs": [
    {
     "name": "stdout",
     "output_type": "stream",
     "text": [
      "Annotated image focusing on the middle car and right pedestrians saved successfully!\n"
     ]
    }
   ],
   "source": [
    "import cv2 as cv\n",
    "\n",
    "# Get the image\n",
    "folder_name = 'part3_images'\n",
    "p3_image_path = f'{folder_name}/street-city-car-buildings.jpg'\n",
    "image = cv.imread(p3_image_path)\n",
    "\n",
    "if image is None:\n",
    "    print(\"Error: Could not load the image. Check the file path.\")\n",
    "else:\n",
    "    # Define bounding boxes for the car and pedestrians\n",
    "    objects = [\n",
    "        {\"label\": \"Car\", \"top_left\": (600, 350), \"bottom_right\": (720, 450)},  # Middle car\n",
    "        {\"label\": \"Pedestrian\", \"top_left\": (250, 350), \"bottom_right\": (340, 540)},  # Left pedestrian (moved up and left)\n",
    "    ]\n",
    "\n",
    "    # Draw rectangles and add labels\n",
    "    for obj in objects:\n",
    "        top_left = obj[\"top_left\"]\n",
    "        bottom_right = obj[\"bottom_right\"]\n",
    "        label = obj[\"label\"]\n",
    "\n",
    "        # Draw rectangle\n",
    "        cv.rectangle(image, top_left, bottom_right, (0, 255, 0), 4)  # Green rectangle\n",
    "\n",
    "        # Add text above the rectangle\n",
    "        text_position = (top_left[0], top_left[1] - 10)\n",
    "        cv.putText(image, label, text_position, cv.FONT_HERSHEY_SIMPLEX, 1, (255, 255, 255), 2)\n",
    "\n",
    "    # Display and save the annotated image\n",
    "    cv.imshow(\"Car and Pedestrians Highlighted\", image)\n",
    "    cv.imwrite(\"part3_images/car_and_pedestrians_updated.png\", image)\n",
    "    print(\"Annotated image focusing on the middle car and right pedestrians saved successfully!\")\n",
    "    cv.waitKey(0)\n",
    "    cv.destroyAllWindows()"
   ]
  }
 ],
 "metadata": {
  "kernelspec": {
   "display_name": "myenv2",
   "language": "python",
   "name": "python3"
  },
  "language_info": {
   "codemirror_mode": {
    "name": "ipython",
    "version": 3
   },
   "file_extension": ".py",
   "mimetype": "text/x-python",
   "name": "python",
   "nbconvert_exporter": "python",
   "pygments_lexer": "ipython3",
   "version": "3.12.6"
  }
 },
 "nbformat": 4,
 "nbformat_minor": 2
}
