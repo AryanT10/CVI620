{
 "cells": [
  {
   "cell_type": "code",
   "execution_count": null,
   "metadata": {},
   "outputs": [
    {
     "name": "stdout",
     "output_type": "stream",
     "text": [
      "Images saved successfully!\n"
     ]
    }
   ],
   "source": [
    "### Part 2a: Brightness & Contrast\n",
    "import cv2 as cv\n",
    "import numpy as np\n",
    "\n",
    "# Define folder and image path\n",
    "folder_name = \"captured_photos_p2\"\n",
    "sample_imagepath = f'{folder_name}/sample.jpg'\n",
    "\n",
    "# Load the image\n",
    "original_image = cv.imread(sample_imagepath)\n",
    "\n",
    "# Validate if the image was loaded successfully\n",
    "if original_image is None:\n",
    "    print(\"Error: Image could not be loaded. Check the file path.\")\n",
    "else:\n",
    "    # Display the original image\n",
    "    cv.imshow(\"Original Image\", original_image)\n",
    "    cv.waitKey(500)\n",
    "    \n",
    "    # Adjust brightness\n",
    "    brightness_factor = 150\n",
    "    brightened_image = cv.add(original_image, np.ones(original_image.shape, dtype=np.uint8) * brightness_factor)\n",
    "    cv.imshow(\"Brightened Image\", brightened_image)\n",
    "    cv.waitKey(500)\n",
    "    \n",
    "    # Adjust contrast\n",
    "    contrast_factor = 0.5\n",
    "    contrast_adjusted = cv.convertScaleAbs(original_image, alpha=contrast_factor, beta=0)\n",
    "    cv.imshow(\"Contrast Adjusted Image\", contrast_adjusted)\n",
    "    cv.waitKey(500)\n",
    "    \n",
    "    # Save the results\n",
    "    cv.imwrite(f\"{folder_name}/brightened_image.jpg\", brightened_image)\n",
    "    cv.imwrite(f\"{folder_name}/contrast_adjusted.jpg\", contrast_adjusted)\n",
    "    print(\"Images saved successfully!\")\n",
    "    \n",
    "    # Wait for user input and close windows\n",
    "    cv.waitKey(0)\n",
    "    cv.destroyAllWindows()\n"
   ]
  },
  {
   "cell_type": "code",
   "execution_count": null,
   "metadata": {},
   "outputs": [
    {
     "name": "stdout",
     "output_type": "stream",
     "text": [
      "Blended image saved successfully at captured_photos_p2/blended_image.png!\n"
     ]
    },
    {
     "ename": "",
     "evalue": "",
     "output_type": "error",
     "traceback": [
      "\u001b[1;31mThe Kernel crashed while executing code in the current cell or a previous cell. \n",
      "\u001b[1;31mPlease review the code in the cell(s) to identify a possible cause of the failure. \n",
      "\u001b[1;31mClick <a href='https://aka.ms/vscodeJupyterKernelCrash'>here</a> for more info. \n",
      "\u001b[1;31mView Jupyter <a href='command:jupyter.viewOutput'>log</a> for further details."
     ]
    }
   ],
   "source": [
    "### Part 2b: Linear blend\n",
    "import cv2 as cv\n",
    "import numpy as np\n",
    "\n",
    "# Define folder and image path\n",
    "folder_name = \"captured_photos_p2\"\n",
    "\n",
    "sample_imagepath1 = f'{folder_name}/sample.jpg'\n",
    "sample_imagepath2 = f'{folder_name}/sample2.jpg'\n",
    "\n",
    "# Load the images\n",
    "image1 = cv.imread(sample_imagepath1)\n",
    "image1 = cv.resize(image1, (500, 500))  # Resize to medium size\n",
    "image2 = cv.imread(sample_imagepath2)\n",
    "\n",
    "# Validate if images were loaded successfully\n",
    "if image1 is None or image2 is None:\n",
    "    print(\"Error: One or both images could not be loaded. Check the file paths.\")\n",
    "else:\n",
    "    # Display the original images\n",
    "    cv.imshow(\"Image 1\", image1)\n",
    "    cv.imshow(\"Image 2\", image2)\n",
    "    cv.waitKey(500)\n",
    "    \n",
    "    # Resize the second image to match the first image\n",
    "    image2 = cv.resize(image2, (image1.shape[1], image1.shape[0]))\n",
    "    \n",
    "    # Ask the user for the alpha value\n",
    "    alpha = float(input(\"Enter a blending factor (alpha) between 0 and 1: \"))\n",
    "    alpha = max(0, min(1, alpha))  # Ensure alpha is within range\n",
    "    \n",
    "    # Perform linear blending\n",
    "    blended_image = cv.addWeighted(image1, 1 - alpha, image2, alpha, 0)\n",
    "    \n",
    "    # Display blended image\n",
    "    cv.imshow(\"Blended Image\", blended_image)\n",
    "    cv.waitKey(500)\n",
    "    \n",
    "    # Save the blended image\n",
    "    blended_image_path = f\"{folder_name}/blended_image.png\"\n",
    "    cv.imwrite(blended_image_path, blended_image)\n",
    "    print(f\"Blended image saved successfully at {blended_image_path}!\")\n",
    "    \n",
    "    # Wait for user input and close windows\n",
    "    cv.waitKey(1000)\n",
    "    cv.destroyAllWindows()"
   ]
  }
 ],
 "metadata": {
  "kernelspec": {
   "display_name": "myenv2",
   "language": "python",
   "name": "python3"
  },
  "language_info": {
   "codemirror_mode": {
    "name": "ipython",
    "version": 3
   },
   "file_extension": ".py",
   "mimetype": "text/x-python",
   "name": "python",
   "nbconvert_exporter": "python",
   "pygments_lexer": "ipython3",
   "version": "3.12.6"
  }
 },
 "nbformat": 4,
 "nbformat_minor": 2
}
