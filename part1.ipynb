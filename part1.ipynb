{
 "cells": [
  {
   "cell_type": "code",
   "execution_count": 1,
   "metadata": {},
   "outputs": [
    {
     "name": "stderr",
     "output_type": "stream",
     "text": [
      "2025-02-08 09:47:27.079 Python[5777:366831] WARNING: AVCaptureDeviceTypeExternal is deprecated for Continuity Cameras. Please use AVCaptureDeviceTypeContinuityCamera and add NSCameraUseContinuityCameraDeviceType to your Info.plist.\n"
     ]
    },
    {
     "name": "stdout",
     "output_type": "stream",
     "text": [
      "Exiting application safely...\n"
     ]
    },
    {
     "ename": "",
     "evalue": "",
     "output_type": "error",
     "traceback": [
      "\u001b[1;31mThe Kernel crashed while executing code in the current cell or a previous cell. \n",
      "\u001b[1;31mPlease review the code in the cell(s) to identify a possible cause of the failure. \n",
      "\u001b[1;31mClick <a href='https://aka.ms/vscodeJupyterKernelCrash'>here</a> for more info. \n",
      "\u001b[1;31mView Jupyter <a href='command:jupyter.viewOutput'>log</a> for further details."
     ]
    }
   ],
   "source": [
    "import os\n",
    "import cv2\n",
    "import time\n",
    "\n",
    "# Folder to save images\n",
    "save_folder = \"captured_photos\"\n",
    "\n",
    "# Ensure the save directory exists\n",
    "if not os.path.exists(save_folder):\n",
    "    os.makedirs(save_folder)\n",
    "\n",
    "# Initialize webcam\n",
    "camera = cv2.VideoCapture(0)\n",
    "photo_count = 1\n",
    "\n",
    "# Styling configurations\n",
    "rect_thickness = 3\n",
    "rect_line_type = cv2.LINE_AA\n",
    "\n",
    "# Text properties\n",
    "font = cv2.FONT_HERSHEY_TRIPLEX\n",
    "font_size = 0.8\n",
    "text_color = (255, 0, 0)  # Blue text\n",
    "text_thickness = 2\n",
    "\n",
    "# Instructions for the user\n",
    "instruction_1 = \"Press X to capture a photo.\"\n",
    "instruction_2 = \"Press Z to exit.\"\n",
    "\n",
    "# Create a named window with a fixed size\n",
    "cv2.namedWindow(\"Live Capture\", cv2.WINDOW_NORMAL)\n",
    "cv2.resizeWindow(\"Live Capture\", 720, 480)  # Adjusted window size\n",
    "\n",
    "while True:\n",
    "    # Capture the frame\n",
    "    ret, frame = camera.read()\n",
    "    if not ret:\n",
    "        print(\"Error: Unable to capture video frame.\")\n",
    "        break\n",
    "\n",
    "    # Get frame dimensions\n",
    "    height, width = frame.shape[:2]\n",
    "    \n",
    "    # Position text dynamically\n",
    "    text_pos_1 = (20, int(height * 0.1))  # 10% from top\n",
    "    text_pos_2 = (20, int(height * 0.2))  # 20% from top\n",
    "\n",
    "    # Apply text overlays\n",
    "    frame = cv2.putText(frame, instruction_1, text_pos_1, font, font_size, text_color, text_thickness, rect_line_type)\n",
    "    frame = cv2.putText(frame, instruction_2, text_pos_2, font, font_size, text_color, text_thickness, rect_line_type)\n",
    "    \n",
    "    # Display the frame\n",
    "    cv2.imshow(\"Live Capture\", frame)\n",
    "    \n",
    "    # Capture key input\n",
    "    key = cv2.waitKey(1) & 0xFF\n",
    "\n",
    "    # Press 'X' to start countdown and save the image\n",
    "    if key == ord('x'):\n",
    "        start_time = time.time()\n",
    "        while time.time() - start_time < 3:\n",
    "            ret, frame = camera.read()  # Keep updating the frame\n",
    "            if not ret:\n",
    "                break\n",
    "            remaining_time = 3 - int(time.time() - start_time)\n",
    "            countdown_text = f\"Capturing in {remaining_time}...\"\n",
    "            text_size = cv2.getTextSize(countdown_text, font, font_size, text_thickness)[0]\n",
    "            text_x = (width - text_size[0]) // 2\n",
    "            text_y = (height - text_size[1]) // 2\n",
    "            frame = cv2.putText(frame, countdown_text, (text_x, text_y), font, font_size, (0, 255, 0), text_thickness, rect_line_type)\n",
    "            cv2.imshow(\"Live Capture\", frame)\n",
    "            cv2.waitKey(1)  # Keep UI responsive\n",
    "        \n",
    "        ret, frame = camera.read()  # Capture the latest frame for saving\n",
    "        if ret:\n",
    "            image_path = f\"{save_folder}/photo_{photo_count}.jpg\"\n",
    "            cv2.imwrite(image_path, frame)\n",
    "            print(f\"Photo saved: {image_path}\")\n",
    "            photo_count += 1\n",
    "\n",
    "    # Press 'Z' to exit\n",
    "    elif key == ord('z'):\n",
    "        print(\"Exiting application safely...\")\n",
    "        break\n",
    "\n",
    "# Release resources\n",
    "camera.release()\n",
    "cv2.destroyAllWindows()\n",
    "exit(0)\n"
   ]
  }
 ],
 "metadata": {
  "kernelspec": {
   "display_name": "myenv2",
   "language": "python",
   "name": "python3"
  },
  "language_info": {
   "codemirror_mode": {
    "name": "ipython",
    "version": 3
   },
   "file_extension": ".py",
   "mimetype": "text/x-python",
   "name": "python",
   "nbconvert_exporter": "python",
   "pygments_lexer": "ipython3",
   "version": "3.12.6"
  }
 },
 "nbformat": 4,
 "nbformat_minor": 2
}
